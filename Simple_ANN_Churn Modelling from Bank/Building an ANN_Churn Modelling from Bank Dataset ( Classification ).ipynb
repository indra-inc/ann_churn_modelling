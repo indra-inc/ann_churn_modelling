{
 "cells": [
  {
   "cell_type": "code",
   "execution_count": null,
   "id": "074e0e6d",
   "metadata": {},
   "outputs": [],
   "source": []
  },
  {
   "cell_type": "code",
   "execution_count": null,
   "id": "06b92e5e",
   "metadata": {},
   "outputs": [],
   "source": []
  },
  {
   "cell_type": "code",
   "execution_count": 2,
   "id": "baf6fc5c",
   "metadata": {},
   "outputs": [],
   "source": [
    "## Importing necessary lib\n",
    "\n",
    "import pandas as pd\n",
    "import numpy as np\n",
    "import matplotlib.pyplot as plt\n",
    "%matplotlib inline\n",
    "import seaborn as sns\n",
    "import plotly.express as px\n",
    "import warnings\n",
    "warnings.filterwarnings(\"ignore\")\n",
    "plt.style.use('dark_background')\n",
    "\n",
    "import tensorflow as tf\n",
    "from tensorflow import keras\n",
    "from keras.models import Sequential\n",
    "from keras.layers import Dense, Dropout\n"
   ]
  },
  {
   "cell_type": "code",
   "execution_count": 2,
   "id": "736f347c",
   "metadata": {},
   "outputs": [
    {
     "data": {
      "text/plain": [
       "'2.8.0'"
      ]
     },
     "execution_count": 2,
     "metadata": {},
     "output_type": "execute_result"
    }
   ],
   "source": [
    "tf.__version__"
   ]
  },
  {
   "cell_type": "markdown",
   "id": "875e0fee",
   "metadata": {},
   "source": [
    "### S-1: Data Preprocessing :"
   ]
  },
  {
   "cell_type": "code",
   "execution_count": 3,
   "id": "cca19e2c",
   "metadata": {},
   "outputs": [],
   "source": [
    "## Importing Dataset\n",
    "dataset = pd.read_csv(\"D:\\Datasets\\Churn_Modelling_Udm_A_Z.csv\")"
   ]
  },
  {
   "cell_type": "code",
   "execution_count": 4,
   "id": "2a5aa3dc",
   "metadata": {},
   "outputs": [
    {
     "data": {
      "text/html": [
       "<div>\n",
       "<style scoped>\n",
       "    .dataframe tbody tr th:only-of-type {\n",
       "        vertical-align: middle;\n",
       "    }\n",
       "\n",
       "    .dataframe tbody tr th {\n",
       "        vertical-align: top;\n",
       "    }\n",
       "\n",
       "    .dataframe thead th {\n",
       "        text-align: right;\n",
       "    }\n",
       "</style>\n",
       "<table border=\"1\" class=\"dataframe\">\n",
       "  <thead>\n",
       "    <tr style=\"text-align: right;\">\n",
       "      <th></th>\n",
       "      <th>RowNumber</th>\n",
       "      <th>CustomerId</th>\n",
       "      <th>Surname</th>\n",
       "      <th>CreditScore</th>\n",
       "      <th>Geography</th>\n",
       "      <th>Gender</th>\n",
       "      <th>Age</th>\n",
       "      <th>Tenure</th>\n",
       "      <th>Balance</th>\n",
       "      <th>NumOfProducts</th>\n",
       "      <th>HasCrCard</th>\n",
       "      <th>IsActiveMember</th>\n",
       "      <th>EstimatedSalary</th>\n",
       "      <th>Exited</th>\n",
       "    </tr>\n",
       "  </thead>\n",
       "  <tbody>\n",
       "    <tr>\n",
       "      <th>0</th>\n",
       "      <td>1</td>\n",
       "      <td>15634602</td>\n",
       "      <td>Hargrave</td>\n",
       "      <td>619</td>\n",
       "      <td>France</td>\n",
       "      <td>Female</td>\n",
       "      <td>42</td>\n",
       "      <td>2</td>\n",
       "      <td>0.00</td>\n",
       "      <td>1</td>\n",
       "      <td>1</td>\n",
       "      <td>1</td>\n",
       "      <td>101348.88</td>\n",
       "      <td>1</td>\n",
       "    </tr>\n",
       "    <tr>\n",
       "      <th>1</th>\n",
       "      <td>2</td>\n",
       "      <td>15647311</td>\n",
       "      <td>Hill</td>\n",
       "      <td>608</td>\n",
       "      <td>Spain</td>\n",
       "      <td>Female</td>\n",
       "      <td>41</td>\n",
       "      <td>1</td>\n",
       "      <td>83807.86</td>\n",
       "      <td>1</td>\n",
       "      <td>0</td>\n",
       "      <td>1</td>\n",
       "      <td>112542.58</td>\n",
       "      <td>0</td>\n",
       "    </tr>\n",
       "    <tr>\n",
       "      <th>2</th>\n",
       "      <td>3</td>\n",
       "      <td>15619304</td>\n",
       "      <td>Onio</td>\n",
       "      <td>502</td>\n",
       "      <td>France</td>\n",
       "      <td>Female</td>\n",
       "      <td>42</td>\n",
       "      <td>8</td>\n",
       "      <td>159660.80</td>\n",
       "      <td>3</td>\n",
       "      <td>1</td>\n",
       "      <td>0</td>\n",
       "      <td>113931.57</td>\n",
       "      <td>1</td>\n",
       "    </tr>\n",
       "    <tr>\n",
       "      <th>3</th>\n",
       "      <td>4</td>\n",
       "      <td>15701354</td>\n",
       "      <td>Boni</td>\n",
       "      <td>699</td>\n",
       "      <td>France</td>\n",
       "      <td>Female</td>\n",
       "      <td>39</td>\n",
       "      <td>1</td>\n",
       "      <td>0.00</td>\n",
       "      <td>2</td>\n",
       "      <td>0</td>\n",
       "      <td>0</td>\n",
       "      <td>93826.63</td>\n",
       "      <td>0</td>\n",
       "    </tr>\n",
       "    <tr>\n",
       "      <th>4</th>\n",
       "      <td>5</td>\n",
       "      <td>15737888</td>\n",
       "      <td>Mitchell</td>\n",
       "      <td>850</td>\n",
       "      <td>Spain</td>\n",
       "      <td>Female</td>\n",
       "      <td>43</td>\n",
       "      <td>2</td>\n",
       "      <td>125510.82</td>\n",
       "      <td>1</td>\n",
       "      <td>1</td>\n",
       "      <td>1</td>\n",
       "      <td>79084.10</td>\n",
       "      <td>0</td>\n",
       "    </tr>\n",
       "  </tbody>\n",
       "</table>\n",
       "</div>"
      ],
      "text/plain": [
       "   RowNumber  CustomerId   Surname  CreditScore Geography  Gender  Age  \\\n",
       "0          1    15634602  Hargrave          619    France  Female   42   \n",
       "1          2    15647311      Hill          608     Spain  Female   41   \n",
       "2          3    15619304      Onio          502    France  Female   42   \n",
       "3          4    15701354      Boni          699    France  Female   39   \n",
       "4          5    15737888  Mitchell          850     Spain  Female   43   \n",
       "\n",
       "   Tenure    Balance  NumOfProducts  HasCrCard  IsActiveMember  \\\n",
       "0       2       0.00              1          1               1   \n",
       "1       1   83807.86              1          0               1   \n",
       "2       8  159660.80              3          1               0   \n",
       "3       1       0.00              2          0               0   \n",
       "4       2  125510.82              1          1               1   \n",
       "\n",
       "   EstimatedSalary  Exited  \n",
       "0        101348.88       1  \n",
       "1        112542.58       0  \n",
       "2        113931.57       1  \n",
       "3         93826.63       0  \n",
       "4         79084.10       0  "
      ]
     },
     "execution_count": 4,
     "metadata": {},
     "output_type": "execute_result"
    }
   ],
   "source": [
    "dataset.head()"
   ]
  },
  {
   "cell_type": "code",
   "execution_count": 5,
   "id": "8ba93d8e",
   "metadata": {},
   "outputs": [
    {
     "data": {
      "text/plain": [
       "(10000, 14)"
      ]
     },
     "execution_count": 5,
     "metadata": {},
     "output_type": "execute_result"
    }
   ],
   "source": [
    "dataset.shape"
   ]
  },
  {
   "cell_type": "code",
   "execution_count": 6,
   "id": "2ea18449",
   "metadata": {},
   "outputs": [
    {
     "data": {
      "text/plain": [
       "RowNumber          0\n",
       "CustomerId         0\n",
       "Surname            0\n",
       "CreditScore        0\n",
       "Geography          0\n",
       "Gender             0\n",
       "Age                0\n",
       "Tenure             0\n",
       "Balance            0\n",
       "NumOfProducts      0\n",
       "HasCrCard          0\n",
       "IsActiveMember     0\n",
       "EstimatedSalary    0\n",
       "Exited             0\n",
       "dtype: int64"
      ]
     },
     "execution_count": 6,
     "metadata": {},
     "output_type": "execute_result"
    }
   ],
   "source": [
    "dataset.isnull().sum()"
   ]
  },
  {
   "cell_type": "code",
   "execution_count": 7,
   "id": "cf0d407e",
   "metadata": {},
   "outputs": [
    {
     "name": "stdout",
     "output_type": "stream",
     "text": [
      "<class 'pandas.core.frame.DataFrame'>\n",
      "RangeIndex: 10000 entries, 0 to 9999\n",
      "Data columns (total 14 columns):\n",
      " #   Column           Non-Null Count  Dtype  \n",
      "---  ------           --------------  -----  \n",
      " 0   RowNumber        10000 non-null  int64  \n",
      " 1   CustomerId       10000 non-null  int64  \n",
      " 2   Surname          10000 non-null  object \n",
      " 3   CreditScore      10000 non-null  int64  \n",
      " 4   Geography        10000 non-null  object \n",
      " 5   Gender           10000 non-null  object \n",
      " 6   Age              10000 non-null  int64  \n",
      " 7   Tenure           10000 non-null  int64  \n",
      " 8   Balance          10000 non-null  float64\n",
      " 9   NumOfProducts    10000 non-null  int64  \n",
      " 10  HasCrCard        10000 non-null  int64  \n",
      " 11  IsActiveMember   10000 non-null  int64  \n",
      " 12  EstimatedSalary  10000 non-null  float64\n",
      " 13  Exited           10000 non-null  int64  \n",
      "dtypes: float64(2), int64(9), object(3)\n",
      "memory usage: 1.1+ MB\n"
     ]
    }
   ],
   "source": [
    "dataset.info()"
   ]
  },
  {
   "cell_type": "markdown",
   "id": "a9171e53",
   "metadata": {},
   "source": [
    "#### Obs : 1. Dataset having 10000 row and 14 columns, among these column 1st three column i.e. rownumber , customerid, and surname is not important.\n",
    "#### 2. Exited variable is Target here\n",
    "#### 3. There is no missing value present in the dataset"
   ]
  },
  {
   "cell_type": "code",
   "execution_count": 8,
   "id": "062a48eb",
   "metadata": {},
   "outputs": [],
   "source": [
    "x = dataset.iloc[:, 3:-1]    ## Feature var starting from 3rd colmn to last before\n",
    "y = dataset.iloc[:, -1]      ## target variable"
   ]
  },
  {
   "cell_type": "code",
   "execution_count": 9,
   "id": "1f652c0f",
   "metadata": {},
   "outputs": [
    {
     "data": {
      "text/plain": [
       "((10000, 10), (10000,))"
      ]
     },
     "execution_count": 9,
     "metadata": {},
     "output_type": "execute_result"
    }
   ],
   "source": [
    "x.shape, y.shape"
   ]
  },
  {
   "cell_type": "code",
   "execution_count": 10,
   "id": "8fa41ce4",
   "metadata": {},
   "outputs": [
    {
     "data": {
      "text/plain": [
       "Male      5457\n",
       "Female    4543\n",
       "Name: Gender, dtype: int64"
      ]
     },
     "execution_count": 10,
     "metadata": {},
     "output_type": "execute_result"
    }
   ],
   "source": [
    "x.Gender.value_counts()"
   ]
  },
  {
   "cell_type": "code",
   "execution_count": 11,
   "id": "d45be1d6",
   "metadata": {},
   "outputs": [
    {
     "data": {
      "text/plain": [
       "France     5014\n",
       "Germany    2509\n",
       "Spain      2477\n",
       "Name: Geography, dtype: int64"
      ]
     },
     "execution_count": 11,
     "metadata": {},
     "output_type": "execute_result"
    }
   ],
   "source": [
    "x.Geography.value_counts()"
   ]
  },
  {
   "cell_type": "markdown",
   "id": "2e81fb4c",
   "metadata": {},
   "source": [
    "#### Obs : gender colmn has 2 unique value and Geography has 3 unique values which we have to encoded further"
   ]
  },
  {
   "cell_type": "code",
   "execution_count": 12,
   "id": "078ed250",
   "metadata": {},
   "outputs": [
    {
     "data": {
      "text/plain": [
       "0    7963\n",
       "1    2037\n",
       "Name: Exited, dtype: int64"
      ]
     },
     "execution_count": 12,
     "metadata": {},
     "output_type": "execute_result"
    }
   ],
   "source": [
    "y.value_counts()"
   ]
  },
  {
   "cell_type": "code",
   "execution_count": 13,
   "id": "24764c68",
   "metadata": {},
   "outputs": [
    {
     "data": {
      "text/plain": [
       "0    79.63\n",
       "1    20.37\n",
       "Name: Exited, dtype: float64"
      ]
     },
     "execution_count": 13,
     "metadata": {},
     "output_type": "execute_result"
    }
   ],
   "source": [
    "y.value_counts(normalize = True)*100"
   ]
  },
  {
   "cell_type": "markdown",
   "id": "c27fac5e",
   "metadata": {},
   "source": [
    "#### Obs : the datset taget variable is too much imbalanced i.e 79.63% of the customer is not exited but 20% of the customer is exited"
   ]
  },
  {
   "cell_type": "markdown",
   "id": "4c38b6d6",
   "metadata": {},
   "source": [
    "### * Encoding of Categorical Feature "
   ]
  },
  {
   "cell_type": "code",
   "execution_count": 14,
   "id": "39e54096",
   "metadata": {},
   "outputs": [],
   "source": [
    "x = dataset.iloc[:, 3:-1].values \n",
    "y = dataset.iloc[:, -1].values"
   ]
  },
  {
   "cell_type": "code",
   "execution_count": 15,
   "id": "29a1e9d4",
   "metadata": {},
   "outputs": [
    {
     "data": {
      "text/plain": [
       "array([[619, 'France', 'Female', ..., 1, 1, 101348.88],\n",
       "       [608, 'Spain', 'Female', ..., 0, 1, 112542.58],\n",
       "       [502, 'France', 'Female', ..., 1, 0, 113931.57],\n",
       "       ...,\n",
       "       [709, 'France', 'Female', ..., 0, 1, 42085.58],\n",
       "       [772, 'Germany', 'Male', ..., 1, 0, 92888.52],\n",
       "       [792, 'France', 'Female', ..., 1, 0, 38190.78]], dtype=object)"
      ]
     },
     "execution_count": 15,
     "metadata": {},
     "output_type": "execute_result"
    }
   ],
   "source": [
    "x"
   ]
  },
  {
   "cell_type": "code",
   "execution_count": 16,
   "id": "f2029966",
   "metadata": {},
   "outputs": [
    {
     "data": {
      "text/plain": [
       "array([1, 0, 1, ..., 1, 1, 0], dtype=int64)"
      ]
     },
     "execution_count": 16,
     "metadata": {},
     "output_type": "execute_result"
    }
   ],
   "source": [
    "y"
   ]
  },
  {
   "cell_type": "code",
   "execution_count": 17,
   "id": "b8e11bee",
   "metadata": {},
   "outputs": [],
   "source": [
    "from sklearn.preprocessing import LabelEncoder   ## for binary variable\n",
    "\n",
    "le = LabelEncoder()\n",
    "x[:, 2] = le.fit_transform(x[:, 2])"
   ]
  },
  {
   "cell_type": "code",
   "execution_count": 18,
   "id": "1c2dd90d",
   "metadata": {},
   "outputs": [
    {
     "data": {
      "text/plain": [
       "array([[619, 'France', 0, ..., 1, 1, 101348.88],\n",
       "       [608, 'Spain', 0, ..., 0, 1, 112542.58],\n",
       "       [502, 'France', 0, ..., 1, 0, 113931.57],\n",
       "       ...,\n",
       "       [709, 'France', 0, ..., 0, 1, 42085.58],\n",
       "       [772, 'Germany', 1, ..., 1, 0, 92888.52],\n",
       "       [792, 'France', 0, ..., 1, 0, 38190.78]], dtype=object)"
      ]
     },
     "execution_count": 18,
     "metadata": {},
     "output_type": "execute_result"
    }
   ],
   "source": [
    "x"
   ]
  },
  {
   "cell_type": "markdown",
   "id": "713edbd4",
   "metadata": {},
   "source": [
    "#### Obs : Female is encoded by 1 and male by 0"
   ]
  },
  {
   "cell_type": "code",
   "execution_count": 19,
   "id": "445a6f54",
   "metadata": {},
   "outputs": [],
   "source": [
    "from sklearn.compose import ColumnTransformer\n",
    "from sklearn.preprocessing import OneHotEncoder\n",
    "ct = ColumnTransformer(transformers=[('encoder', OneHotEncoder(), [1])], remainder='passthrough')  ## 1 for colmun 1\n",
    "x = np.array(ct.fit_transform(x))"
   ]
  },
  {
   "cell_type": "code",
   "execution_count": 20,
   "id": "d865ee38",
   "metadata": {},
   "outputs": [
    {
     "data": {
      "text/plain": [
       "array([[1.0, 0.0, 0.0, ..., 1, 1, 101348.88],\n",
       "       [0.0, 0.0, 1.0, ..., 0, 1, 112542.58],\n",
       "       [1.0, 0.0, 0.0, ..., 1, 0, 113931.57],\n",
       "       ...,\n",
       "       [1.0, 0.0, 0.0, ..., 0, 1, 42085.58],\n",
       "       [0.0, 1.0, 0.0, ..., 1, 0, 92888.52],\n",
       "       [1.0, 0.0, 0.0, ..., 1, 0, 38190.78]], dtype=object)"
      ]
     },
     "execution_count": 20,
     "metadata": {},
     "output_type": "execute_result"
    }
   ],
   "source": [
    "x"
   ]
  },
  {
   "cell_type": "markdown",
   "id": "649a85e5",
   "metadata": {},
   "source": [
    "#### Obs : Encod of France : 1,0,0 , Spain : 0,0,1 and Germany : 0,1,0"
   ]
  },
  {
   "cell_type": "markdown",
   "id": "c7080e54",
   "metadata": {},
   "source": [
    "### * Data Splitting:"
   ]
  },
  {
   "cell_type": "code",
   "execution_count": 22,
   "id": "fe9ae754",
   "metadata": {},
   "outputs": [
    {
     "name": "stdout",
     "output_type": "stream",
     "text": [
      "Shape of training dataset is : (8000, 12)\n",
      "\n",
      "Shape of test dataset is : (2000, 12)\n"
     ]
    }
   ],
   "source": [
    "from sklearn.model_selection import train_test_split\n",
    "np.random.seed(500)\n",
    "x_train, x_test, y_train, y_test = train_test_split(x, y, test_size = 0.2, random_state = 0)\n",
    "print('Shape of training dataset is :',x_train.shape)\n",
    "print('')\n",
    "print('Shape of test dataset is :',x_test.shape)"
   ]
  },
  {
   "cell_type": "markdown",
   "id": "6b4c4c6e",
   "metadata": {},
   "source": [
    "### * Feature Scaling"
   ]
  },
  {
   "cell_type": "code",
   "execution_count": 23,
   "id": "bb2e0de2",
   "metadata": {},
   "outputs": [],
   "source": [
    "from sklearn.preprocessing import StandardScaler\n",
    "sc = StandardScaler()\n",
    "x_train = sc.fit_transform(x_train)\n",
    "x_test = sc.transform(x_test)"
   ]
  },
  {
   "cell_type": "markdown",
   "id": "522abfaf",
   "metadata": {},
   "source": [
    "## S-2 : Building ANN"
   ]
  },
  {
   "cell_type": "code",
   "execution_count": 24,
   "id": "89e9a729",
   "metadata": {},
   "outputs": [],
   "source": [
    "## Determining the number of columns\n",
    "input_dim = x_train.shape[1]"
   ]
  },
  {
   "cell_type": "code",
   "execution_count": 25,
   "id": "0ee8e585",
   "metadata": {},
   "outputs": [
    {
     "name": "stdout",
     "output_type": "stream",
     "text": [
      "------------------ MODEL_1 ------------------\n",
      "Epoch 1/100\n",
      "250/250 [==============================] - 1s 1ms/step - loss: 0.6113 - accuracy: 0.6775\n",
      "Epoch 2/100\n",
      "250/250 [==============================] - 0s 948us/step - loss: 0.4889 - accuracy: 0.7960\n",
      "Epoch 3/100\n",
      "250/250 [==============================] - 0s 910us/step - loss: 0.4518 - accuracy: 0.7960\n",
      "Epoch 4/100\n",
      "250/250 [==============================] - 0s 952us/step - loss: 0.4337 - accuracy: 0.8006\n",
      "Epoch 5/100\n",
      "250/250 [==============================] - 0s 990us/step - loss: 0.4246 - accuracy: 0.8083\n",
      "Epoch 6/100\n",
      "250/250 [==============================] - 0s 972us/step - loss: 0.4178 - accuracy: 0.8125\n",
      "Epoch 7/100\n",
      "250/250 [==============================] - 0s 958us/step - loss: 0.4105 - accuracy: 0.8188\n",
      "Epoch 8/100\n",
      "250/250 [==============================] - 0s 930us/step - loss: 0.4011 - accuracy: 0.8236\n",
      "Epoch 9/100\n",
      "250/250 [==============================] - 0s 1ms/step - loss: 0.3921 - accuracy: 0.8288\n",
      "Epoch 10/100\n",
      "250/250 [==============================] - 0s 910us/step - loss: 0.3832 - accuracy: 0.8351\n",
      "Epoch 11/100\n",
      "250/250 [==============================] - 0s 878us/step - loss: 0.3754 - accuracy: 0.8370\n",
      "Epoch 12/100\n",
      "250/250 [==============================] - 0s 938us/step - loss: 0.3692 - accuracy: 0.8443\n",
      "Epoch 13/100\n",
      "250/250 [==============================] - 0s 958us/step - loss: 0.3643 - accuracy: 0.8469\n",
      "Epoch 14/100\n",
      "250/250 [==============================] - 0s 950us/step - loss: 0.3608 - accuracy: 0.8500\n",
      "Epoch 15/100\n",
      "250/250 [==============================] - 0s 992us/step - loss: 0.3579 - accuracy: 0.8506\n",
      "Epoch 16/100\n",
      "250/250 [==============================] - 0s 962us/step - loss: 0.3565 - accuracy: 0.8509\n",
      "Epoch 17/100\n",
      "250/250 [==============================] - 0s 912us/step - loss: 0.3541 - accuracy: 0.8491\n",
      "Epoch 18/100\n",
      "250/250 [==============================] - 0s 908us/step - loss: 0.3531 - accuracy: 0.8514\n",
      "Epoch 19/100\n",
      "250/250 [==============================] - 0s 880us/step - loss: 0.3517 - accuracy: 0.8536\n",
      "Epoch 20/100\n",
      "250/250 [==============================] - 0s 890us/step - loss: 0.3508 - accuracy: 0.8518\n",
      "Epoch 21/100\n",
      "250/250 [==============================] - 0s 908us/step - loss: 0.3506 - accuracy: 0.8556\n",
      "Epoch 22/100\n",
      "250/250 [==============================] - 0s 956us/step - loss: 0.3498 - accuracy: 0.8561\n",
      "Epoch 23/100\n",
      "250/250 [==============================] - 0s 954us/step - loss: 0.3491 - accuracy: 0.8570\n",
      "Epoch 24/100\n",
      "250/250 [==============================] - 0s 970us/step - loss: 0.3493 - accuracy: 0.8554\n",
      "Epoch 25/100\n",
      "250/250 [==============================] - 0s 904us/step - loss: 0.3484 - accuracy: 0.8560\n",
      "Epoch 26/100\n",
      "250/250 [==============================] - 0s 932us/step - loss: 0.3481 - accuracy: 0.8577\n",
      "Epoch 27/100\n",
      "250/250 [==============================] - 0s 918us/step - loss: 0.3477 - accuracy: 0.8562\n",
      "Epoch 28/100\n",
      "250/250 [==============================] - 0s 904us/step - loss: 0.3475 - accuracy: 0.8580\n",
      "Epoch 29/100\n",
      "250/250 [==============================] - 0s 924us/step - loss: 0.3468 - accuracy: 0.8585\n",
      "Epoch 30/100\n",
      "250/250 [==============================] - 0s 918us/step - loss: 0.3472 - accuracy: 0.8569\n",
      "Epoch 31/100\n",
      "250/250 [==============================] - 0s 902us/step - loss: 0.3466 - accuracy: 0.8569\n",
      "Epoch 32/100\n",
      "250/250 [==============================] - 0s 906us/step - loss: 0.3460 - accuracy: 0.8596\n",
      "Epoch 33/100\n",
      "250/250 [==============================] - 0s 932us/step - loss: 0.3460 - accuracy: 0.8589\n",
      "Epoch 34/100\n",
      "250/250 [==============================] - 0s 910us/step - loss: 0.3455 - accuracy: 0.8590\n",
      "Epoch 35/100\n",
      "250/250 [==============================] - 0s 910us/step - loss: 0.3455 - accuracy: 0.8594\n",
      "Epoch 36/100\n",
      "250/250 [==============================] - 0s 910us/step - loss: 0.3454 - accuracy: 0.8585\n",
      "Epoch 37/100\n",
      "250/250 [==============================] - 0s 896us/step - loss: 0.3456 - accuracy: 0.8585\n",
      "Epoch 38/100\n",
      "250/250 [==============================] - 0s 908us/step - loss: 0.3446 - accuracy: 0.8609\n",
      "Epoch 39/100\n",
      "250/250 [==============================] - 0s 906us/step - loss: 0.3442 - accuracy: 0.8600\n",
      "Epoch 40/100\n",
      "250/250 [==============================] - 0s 922us/step - loss: 0.3444 - accuracy: 0.8583\n",
      "Epoch 41/100\n",
      "250/250 [==============================] - 0s 996us/step - loss: 0.3444 - accuracy: 0.8618\n",
      "Epoch 42/100\n",
      "250/250 [==============================] - 0s 970us/step - loss: 0.3439 - accuracy: 0.8600\n",
      "Epoch 43/100\n",
      "250/250 [==============================] - 0s 1ms/step - loss: 0.3435 - accuracy: 0.8601\n",
      "Epoch 44/100\n",
      "250/250 [==============================] - 0s 960us/step - loss: 0.3434 - accuracy: 0.8622\n",
      "Epoch 45/100\n",
      "250/250 [==============================] - 0s 984us/step - loss: 0.3428 - accuracy: 0.8586\n",
      "Epoch 46/100\n",
      "250/250 [==============================] - 0s 986us/step - loss: 0.3433 - accuracy: 0.8616\n",
      "Epoch 47/100\n",
      "250/250 [==============================] - 0s 916us/step - loss: 0.3426 - accuracy: 0.8602\n",
      "Epoch 48/100\n",
      "250/250 [==============================] - 0s 972us/step - loss: 0.3421 - accuracy: 0.8618\n",
      "Epoch 49/100\n",
      "250/250 [==============================] - 0s 964us/step - loss: 0.3428 - accuracy: 0.8618\n",
      "Epoch 50/100\n",
      "250/250 [==============================] - 0s 912us/step - loss: 0.3422 - accuracy: 0.8606\n",
      "Epoch 51/100\n",
      "250/250 [==============================] - 0s 906us/step - loss: 0.3424 - accuracy: 0.8615\n",
      "Epoch 52/100\n",
      "250/250 [==============================] - 0s 918us/step - loss: 0.3422 - accuracy: 0.8615\n",
      "Epoch 53/100\n",
      "250/250 [==============================] - 0s 902us/step - loss: 0.3421 - accuracy: 0.8619\n",
      "Epoch 54/100\n",
      "250/250 [==============================] - 0s 892us/step - loss: 0.3423 - accuracy: 0.8633\n",
      "Epoch 55/100\n",
      "250/250 [==============================] - 0s 902us/step - loss: 0.3419 - accuracy: 0.8621\n",
      "Epoch 56/100\n",
      "250/250 [==============================] - 0s 920us/step - loss: 0.3420 - accuracy: 0.8637\n",
      "Epoch 57/100\n",
      "250/250 [==============================] - 0s 902us/step - loss: 0.3417 - accuracy: 0.8608\n",
      "Epoch 58/100\n",
      "250/250 [==============================] - 0s 936us/step - loss: 0.3415 - accuracy: 0.8630\n",
      "Epoch 59/100\n",
      "250/250 [==============================] - 0s 914us/step - loss: 0.3418 - accuracy: 0.8630\n",
      "Epoch 60/100\n",
      "250/250 [==============================] - 0s 924us/step - loss: 0.3415 - accuracy: 0.8625\n",
      "Epoch 61/100\n",
      "250/250 [==============================] - 0s 896us/step - loss: 0.3416 - accuracy: 0.8611\n",
      "Epoch 62/100\n",
      "250/250 [==============================] - 0s 884us/step - loss: 0.3416 - accuracy: 0.8611\n",
      "Epoch 63/100\n",
      "250/250 [==============================] - 0s 940us/step - loss: 0.3411 - accuracy: 0.8649\n",
      "Epoch 64/100\n",
      "250/250 [==============================] - 0s 934us/step - loss: 0.3416 - accuracy: 0.8615\n",
      "Epoch 65/100\n",
      "250/250 [==============================] - 0s 920us/step - loss: 0.3411 - accuracy: 0.8621\n",
      "Epoch 66/100\n",
      "250/250 [==============================] - 0s 942us/step - loss: 0.3411 - accuracy: 0.8637\n",
      "Epoch 67/100\n",
      "250/250 [==============================] - 0s 928us/step - loss: 0.3410 - accuracy: 0.8615\n",
      "Epoch 68/100\n",
      "250/250 [==============================] - 0s 928us/step - loss: 0.3408 - accuracy: 0.8630\n",
      "Epoch 69/100\n",
      "250/250 [==============================] - 0s 948us/step - loss: 0.3401 - accuracy: 0.8624\n",
      "Epoch 70/100\n",
      "250/250 [==============================] - 0s 914us/step - loss: 0.3412 - accuracy: 0.8629\n",
      "Epoch 71/100\n",
      "250/250 [==============================] - 0s 886us/step - loss: 0.3409 - accuracy: 0.8625\n",
      "Epoch 72/100\n",
      "250/250 [==============================] - 0s 924us/step - loss: 0.3406 - accuracy: 0.8620\n",
      "Epoch 73/100\n",
      "250/250 [==============================] - 0s 906us/step - loss: 0.3412 - accuracy: 0.8614\n",
      "Epoch 74/100\n",
      "250/250 [==============================] - 0s 964us/step - loss: 0.3406 - accuracy: 0.8604\n",
      "Epoch 75/100\n",
      "250/250 [==============================] - 0s 980us/step - loss: 0.3407 - accuracy: 0.8615\n",
      "Epoch 76/100\n",
      "250/250 [==============================] - 0s 986us/step - loss: 0.3413 - accuracy: 0.8612\n",
      "Epoch 77/100\n",
      "250/250 [==============================] - 0s 944us/step - loss: 0.3406 - accuracy: 0.8624\n",
      "Epoch 78/100\n",
      "250/250 [==============================] - 0s 976us/step - loss: 0.3406 - accuracy: 0.8637\n",
      "Epoch 79/100\n",
      "250/250 [==============================] - 0s 976us/step - loss: 0.3401 - accuracy: 0.8644\n",
      "Epoch 80/100\n",
      "250/250 [==============================] - 0s 898us/step - loss: 0.3406 - accuracy: 0.8616\n",
      "Epoch 81/100\n",
      "250/250 [==============================] - 0s 948us/step - loss: 0.3399 - accuracy: 0.8610\n",
      "Epoch 82/100\n",
      "250/250 [==============================] - 0s 942us/step - loss: 0.3404 - accuracy: 0.8627\n",
      "Epoch 83/100\n",
      "250/250 [==============================] - 0s 884us/step - loss: 0.3399 - accuracy: 0.8625\n",
      "Epoch 84/100\n",
      "250/250 [==============================] - 0s 984us/step - loss: 0.3411 - accuracy: 0.8606\n",
      "Epoch 85/100\n",
      "250/250 [==============================] - 0s 938us/step - loss: 0.3399 - accuracy: 0.8621\n",
      "Epoch 86/100\n",
      "250/250 [==============================] - 0s 946us/step - loss: 0.3404 - accuracy: 0.8619\n",
      "Epoch 87/100\n",
      "250/250 [==============================] - 0s 920us/step - loss: 0.3400 - accuracy: 0.8633\n",
      "Epoch 88/100\n",
      "250/250 [==============================] - 0s 872us/step - loss: 0.3397 - accuracy: 0.8630\n",
      "Epoch 89/100\n",
      "250/250 [==============================] - 0s 890us/step - loss: 0.3395 - accuracy: 0.8633\n",
      "Epoch 90/100\n",
      "250/250 [==============================] - 0s 922us/step - loss: 0.3397 - accuracy: 0.8616\n",
      "Epoch 91/100\n",
      "250/250 [==============================] - 0s 952us/step - loss: 0.3398 - accuracy: 0.8626\n",
      "Epoch 92/100\n",
      "250/250 [==============================] - 0s 1ms/step - loss: 0.3391 - accuracy: 0.8633\n",
      "Epoch 93/100\n",
      "250/250 [==============================] - 0s 934us/step - loss: 0.3391 - accuracy: 0.8627\n",
      "Epoch 94/100\n",
      "250/250 [==============================] - 0s 962us/step - loss: 0.3389 - accuracy: 0.8616\n",
      "Epoch 95/100\n",
      "250/250 [==============================] - 0s 950us/step - loss: 0.3386 - accuracy: 0.8637\n",
      "Epoch 96/100\n",
      "250/250 [==============================] - 0s 974us/step - loss: 0.3388 - accuracy: 0.8631\n",
      "Epoch 97/100\n",
      "250/250 [==============================] - 0s 980us/step - loss: 0.3393 - accuracy: 0.8631\n",
      "Epoch 98/100\n",
      "250/250 [==============================] - 0s 944us/step - loss: 0.3385 - accuracy: 0.8631\n",
      "Epoch 99/100\n",
      "250/250 [==============================] - 0s 984us/step - loss: 0.3384 - accuracy: 0.8621\n",
      "Epoch 100/100\n",
      "250/250 [==============================] - 0s 946us/step - loss: 0.3382 - accuracy: 0.8611\n"
     ]
    },
    {
     "data": {
      "text/plain": [
       "<keras.callbacks.History at 0x2a1427aa550>"
      ]
     },
     "execution_count": 25,
     "metadata": {},
     "output_type": "execute_result"
    }
   ],
   "source": [
    "## Step- 2 : Creating First model\n",
    "print('------------------ MODEL_1 ------------------')\n",
    "\n",
    "# Creating / initialising an empty sequential model\n",
    "model_1 = Sequential()\n",
    "\n",
    "# Adding an input layer to the model or ANN or !st Hidden layer i.e Layer 1\n",
    "model_1.add(Dense(6, input_dim = input_dim, activation = 'relu'))\n",
    "\n",
    "# Adding 2nd hidden layer\n",
    "model_1.add(Dense(6, activation = 'relu'))\n",
    "\n",
    "# Adding an output layer to the model\n",
    "model_1.add(Dense(1, activation = 'sigmoid'))   ## As we have to predict binary variable\n",
    "\n",
    "# Train the ANN model\n",
    "## Compile the model\n",
    "model_1.compile(loss = 'binary_crossentropy', optimizer = 'adam', metrics = ['accuracy'])\n",
    "\n",
    "## Fit the model\n",
    "model_1.fit(x_train, y_train, batch_size = 32, epochs = 100)"
   ]
  },
  {
   "cell_type": "code",
   "execution_count": 26,
   "id": "cda6d204",
   "metadata": {},
   "outputs": [
    {
     "name": "stdout",
     "output_type": "stream",
     "text": [
      "250/250 [==============================] - 0s 841us/step - loss: 0.3389 - accuracy: 0.8627\n",
      "Training Accuracy is : 86.27%\n",
      "\n",
      "63/63 [==============================] - 0s 1ms/step - loss: 0.3437 - accuracy: 0.8550\n",
      "Test Accuracy is : 85.50%\n",
      "\n"
     ]
    }
   ],
   "source": [
    "## Evaluate the model\n",
    "score_trn = model_1.evaluate(x_train, y_train)\n",
    "print('Training Accuracy is : %.2f%%' %(100*score_trn[1]))\n",
    "print('')\n",
    "\n",
    "score_tst = model_1.evaluate(x_test, y_test)\n",
    "print('Test Accuracy is : %.2f%%' %(100*score_tst[1]))\n",
    "print('')"
   ]
  },
  {
   "cell_type": "markdown",
   "id": "699c86a2",
   "metadata": {},
   "source": [
    "#### Obs : Model is underfitting as model accuracy is not too good"
   ]
  },
  {
   "cell_type": "code",
   "execution_count": 27,
   "id": "6e9a35d3",
   "metadata": {},
   "outputs": [
    {
     "name": "stdout",
     "output_type": "stream",
     "text": [
      "[[False]]\n"
     ]
    }
   ],
   "source": [
    "print(model_1.predict(sc.transform([[1, 0, 0, 600, 1, 40, 3, 60000, 2, 1, 1, 50000]])) > 0.5)"
   ]
  },
  {
   "cell_type": "markdown",
   "id": "beb0abab",
   "metadata": {},
   "source": [
    "#### Obs :\n",
    "* Based on the following informations we have predicted should the customer say goodbye or not ?: Ans : No i.e Customer will not churned out or Exited\n",
    "- Geography: France\n",
    "- Credit Score: 600\n",
    "- Gender: Male\n",
    "- Age: 40 years old\n",
    "- Tenure: 3 years\n",
    "- Balance: \\$ 60000\n",
    "- Number of Products: 2\n",
    "- Does this customer have a credit card ? Yes\n",
    "- Is this customer an Active Member: Yes\n",
    "- Estimated Salary: \\$ 50000\n",
    "- Is this customer an Active Member: Yes\n"
   ]
  },
  {
   "cell_type": "markdown",
   "id": "f72af3f8",
   "metadata": {},
   "source": [
    "### * Making the Confusion Matrix"
   ]
  },
  {
   "cell_type": "code",
   "execution_count": 29,
   "id": "2d480c6a",
   "metadata": {},
   "outputs": [
    {
     "name": "stdout",
     "output_type": "stream",
     "text": [
      "[[1490  105]\n",
      " [ 185  220]]\n"
     ]
    },
    {
     "data": {
      "text/plain": [
       "85.5"
      ]
     },
     "execution_count": 29,
     "metadata": {},
     "output_type": "execute_result"
    }
   ],
   "source": [
    "y_pred = model_1.predict(x_test)\n",
    "y_pred = (y_pred > 0.5)\n",
    "\n",
    "from sklearn.metrics import confusion_matrix, accuracy_score\n",
    "\n",
    "cm = confusion_matrix(y_test, y_pred)\n",
    "print(cm)\n",
    "accuracy_score(y_test, y_pred)*100"
   ]
  },
  {
   "cell_type": "markdown",
   "id": "c8aad396",
   "metadata": {},
   "source": [
    "## *** END ***"
   ]
  }
 ],
 "metadata": {
  "kernelspec": {
   "display_name": "Python 3 (ipykernel)",
   "language": "python",
   "name": "python3"
  },
  "language_info": {
   "codemirror_mode": {
    "name": "ipython",
    "version": 3
   },
   "file_extension": ".py",
   "mimetype": "text/x-python",
   "name": "python",
   "nbconvert_exporter": "python",
   "pygments_lexer": "ipython3",
   "version": "3.9.12"
  }
 },
 "nbformat": 4,
 "nbformat_minor": 5
}
